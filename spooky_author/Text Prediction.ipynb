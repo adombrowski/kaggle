{
 "cells": [
  {
   "cell_type": "markdown",
   "metadata": {},
   "source": [
    "# Text Prediction\n",
    "\n",
    "This notebook is a running analysis on the Kaggle \"spooky author\" dataset."
   ]
  },
  {
   "cell_type": "markdown",
   "metadata": {},
   "source": [
    "### Introduction\n",
    "\n",
    "This notebook takes you through an approach to small document text classification. It takes you through basic approaches to vectorizing and training text classification models and then builds up from there to stack model approaches that yield more powerful predictions. The notebook is organized as follows:\n",
    "\n",
    "1. Initial Data Exploration\n",
    "2. Basic Text Feature Engineering and Model Evaluation\n",
    "3. Extracting Text Meta-Features\n",
    "4. Stack Model Approaches\n",
    "5. Cross-Validation and Visualizing Performance\n",
    "6. Closing Remarks"
   ]
  },
  {
   "cell_type": "markdown",
   "metadata": {},
   "source": [
    "### Initial Data Exploration\n",
    "\n",
    "Let's first import our libraries and our training and testing data sets. You'll see below I rely heavily on the scikit and nltk libraries in my text classification analysis."
   ]
  },
  {
   "cell_type": "code",
   "execution_count": 72,
   "metadata": {
    "collapsed": true
   },
   "outputs": [],
   "source": [
    "import pandas as pd\n",
    "import numpy as np\n",
    "import re\n",
    "\n",
    "from collections import Counter\n",
    "\n",
    "from sklearn.feature_extraction.text import TfidfVectorizer\n",
    "from sklearn.decomposition import TruncatedSVD\n",
    "from sklearn.model_selection import train_test_split\n",
    "from sklearn.metrics import f1_score, confusion_matrix\n",
    "from sklearn.preprocessing import normalize, StandardScaler\n",
    "from sklearn.decomposition import TruncatedSVD, PCA\n",
    "from sklearn.metrics.pairwise import cosine_similarity\n",
    "\n",
    "from sklearn.naive_bayes import MultinomialNB\n",
    "from sklearn.svm import SVC, LinearSVC\n",
    "from sklearn.linear_model import LogisticRegression\n",
    "from sklearn.ensemble import RandomForestClassifier, GradientBoostingClassifier\n",
    "from sklearn.neighbors import KNeighborsClassifier\n",
    "\n",
    "from nltk.tokenize import word_tokenize\n",
    "from nltk.stem import PorterStemmer\n",
    "from nltk.corpus import stopwords\n",
    "from nltk import ngrams, pos_tag\n",
    "\n",
    "import matplotlib.pyplot as plt"
   ]
  },
  {
   "cell_type": "code",
   "execution_count": 2,
   "metadata": {
    "collapsed": true
   },
   "outputs": [],
   "source": [
    "## import training and test data\n",
    "train_df, test_df = pd.read_csv(\"train.csv\", sep=\",\", encoding=\"utf-8\"), pd.read_csv(\"test.csv\", sep=\",\", encoding=\"utf-8\")"
   ]
  },
  {
   "cell_type": "markdown",
   "metadata": {},
   "source": [
    "##### Plot Our Class Distribution\n",
    "\n",
    "Let's start off by plotting our training data class distributions. It's always good to make sure our class distribution is not lopsided (think cancer data) and that we have a basic, high level understanding of our class occurences (e.g. how many classes we need to train on, et cetera)."
   ]
  },
  {
   "cell_type": "code",
   "execution_count": 3,
   "metadata": {},
   "outputs": [
    {
     "data": {
      "image/png": "[encoded data removed]",
      "text/plain": [
       "<matplotlib.figure.Figure at 0x113c3780>"
      ]
     },
     "metadata": {},
     "output_type": "display_data"
    }
   ],
   "source": [
    "## plot overall author count\n",
    "classDist = train_df.groupby(\"author\")[\"id\"].count().reset_index().rename(columns={'id':'count'})\n",
    "\n",
    "plt.bar(list(classDist.author.index), classDist['count'])\n",
    "plt.title(\"Classifier Tag Distribution\")\n",
    "plt.ylabel(\"Frequency\")\n",
    "plt.xticks(list(classDist.author.index), classDist.author)\n",
    "\n",
    "plt.show()"
   ]
  },
  {
   "cell_type": "markdown",
   "metadata": {},
   "source": [
    "As far as class distributions go this is pretty manageable. We'll just want to make sure our train and test splits mirror this distribution."
   ]
  },
  {
   "cell_type": "markdown",
   "metadata": {},
   "source": [
    "##### Preparing Our Text Data\n",
    "\n",
    "We need to run some pre-processing on our data. It varies based upon the project, but typically you'll at least consider doing some of the following:\n",
    "- Stripping special characters (non-alpha-numeric characters) from the raw strings\n",
    "- Tokenizing\n",
    "- Removing stopwords\n",
    "- Stem/lemmatize\n",
    "- Generate count or tfidf sparse vectors\n",
    "\n",
    "But again: not every action is needed or even desirable given the particular problem case. For instance, special characters might very well help our models distinguish between authors. One of our authors lived relatively later than our other two and punctuation conventions change over time (and are usually idiosyncratic when considering some famous authors). So we might very well want to hold back on the string cleaning.\n",
    "\n",
    "Tokenizing is another task that's going to have its specifics be determined by the project's aims as well as data available. The second consideration is very important: bi-gram and tri-grams require a fairly substantial corpus, preferably at least in the millions -- the reason being we need a lot of overall occurences before we can get a decent sample of co-occurences. We don't have that here, but then again, authorial idiosyncracies might reveal an important ngram or two.\n",
    "\n",
    "I've defined a method that gives us some flexibility in configuring our parameters so we can test to see which pre-processing tasks we want to perform on our data."
   ]
  },
  {
   "cell_type": "code",
   "execution_count": 4,
   "metadata": {
    "collapsed": true
   },
   "outputs": [],
   "source": [
    "def joinGrams(text, n_count):\n",
    "    return [\" \".join(n) for n in ngrams(text, n_count)]\n",
    "\n",
    "def buildNGrams(text, n_count):\n",
    "    result = []\n",
    "    for i in range(n_count[0],n_count[1]+1):\n",
    "        result += joinGrams(text, i)\n",
    "    return result\n",
    "\n",
    "def buildCorpus(sentences, flatten=False, n_count=(1,1)):\n",
    "    stemmer = PorterStemmer()\n",
    "    stop = list(set(stopwords.words('english')))\n",
    "    \n",
    "    ## tokenize\n",
    "    corp = [word_tokenize(re.sub(\"[^a-z]\", \" \", s.lower())) for s in sentences]\n",
    "    \n",
    "    ## remove stopwords (first sweep)\n",
    "    corp = [[w for w in sen if w not in stop] for sen in corp]\n",
    "    \n",
    "    ## stem words\n",
    "    corp = [[stemmer.stem(w) for w in sen] for sen in corp]\n",
    "\n",
    "    ## remove stopwords (second sweep)\n",
    "    corp = [[w for w in sen if w not in stop] for sen in corp]\n",
    "\n",
    "    ## build ngrams\n",
    "    if n_count[1] > 1:\n",
    "        corp = [buildNGrams(c, n_count) for c in corp]\n",
    "    \n",
    "    ## return flattened list\n",
    "    if flatten is True:\n",
    "        return [item for sublist in corp for item in sublist]\n",
    "    else:\n",
    "        return corp"
   ]
  },
  {
   "cell_type": "markdown",
   "metadata": {},
   "source": [
    "Let's start off simple: we'll remove our stopwords, clean, and stem. I'm going to create separate vectors holding our uni-grams and bi-grams. For bi-grams to be useful we'll likely need a larger corpus, but let's at least see what we have to work with.\n",
    "\n",
    "(Note: sklearn has classes that do this for you, but for illustrative purposes I've defined a simple method for us to play with).\n",
    "\n",
    "Below I generate lists of every token (uni or bigram) present in an author's corpus (i.e. no de-duplication). These lists will help us analyze term frequencies."
   ]
  },
  {
   "cell_type": "code",
   "execution_count": 5,
   "metadata": {
    "collapsed": true
   },
   "outputs": [],
   "source": [
    "## generate list of all unigrams found in an author's corpus\n",
    "eap_1tok = buildCorpus(train_df.text[train_df.author == \"EAP\"], flatten=True)\n",
    "hpl_1tok = buildCorpus(train_df.text[train_df.author == \"HPL\"], flatten=True)\n",
    "mws_1tok = buildCorpus(train_df.text[train_df.author == \"MWS\"], flatten=True)\n",
    "\n",
    "## generate list of all bigrams found in an author's corpus\n",
    "eap_2tok = buildCorpus(train_df.text[train_df.author == \"EAP\"], flatten=True, n_count=(2,2))\n",
    "hpl_2tok = buildCorpus(train_df.text[train_df.author == \"HPL\"], flatten=True, n_count=(2,2))\n",
    "mws_2tok = buildCorpus(train_df.text[train_df.author == \"MWS\"], flatten=True, n_count=(2,2))\n",
    "\n",
    "## generate list of all unigrams in entire corpus, both training and test\n",
    "train_1tok = buildCorpus(train_df.text, flatten=True)\n",
    "test_1tok = buildCorpus(test_df.text, flatten=True)\n",
    "\n",
    "## generate list of all bigrams in entire corpus, both training and test\n",
    "train_2tok = buildCorpus(train_df.text, flatten=True, n_count=(2,2))\n",
    "test_2tok = buildCorpus(test_df.text, flatten=True, n_count=(2,2))"
   ]
  },
  {
   "cell_type": "markdown",
   "metadata": {},
   "source": [
    "Below I visualize aggregate frequency statistics that will help give us a bird's eye sense of the data we're playing with. But let's first simply get a sense of token count and uniqueness throughout our population."
   ]
  },
  {
   "cell_type": "code",
   "execution_count": 6,
   "metadata": {},
   "outputs": [
    {
     "name": "stdout",
     "output_type": "stream",
     "text": [
      "Total number of unigram tokens in training corpus: 255549\n",
      "Total number of bigram tokens in training corpus: 235974\n",
      "\n",
      "Total number of unique unigram tokens in training corpus: 15429\n",
      "Total number of unique bigram tokens in training corpus: 201168\n"
     ]
    }
   ],
   "source": [
    "print(\"Total number of unigram tokens in training corpus: {}\".format(len(train_1tok)))\n",
    "print(\"Total number of bigram tokens in training corpus: {}\".format(len(train_2tok)))\n",
    "\n",
    "print(\"\\nTotal number of unique unigram tokens in training corpus: {}\".format(len(set(train_1tok))))\n",
    "print(\"Total number of unique bigram tokens in training corpus: {}\".format(len(set(train_2tok))))"
   ]
  },
  {
   "cell_type": "markdown",
   "metadata": {},
   "source": [
    "This corpus is not that big. At ~250,000 tokens and a roughly 17:1 total to unique ratio we'll easily be able to build classifiers using unigram tokens. But 235,000 tokens is simply not enough for bigrams as is evidenced by the total to unique ratio: 1.15:1; we simply do not have enough bigram observations to build a model on a lrge bi-gram vector.\n",
    "\n",
    "As we'll see below, there are a few frequently occuring bi-grams, so we could consider hot coding this into one of our vectors and seeing how our models respond."
   ]
  },
  {
   "cell_type": "markdown",
   "metadata": {},
   "source": [
    "###### Visualizing Most Frequent One-Gram Tokens, by Author"
   ]
  },
  {
   "cell_type": "code",
   "execution_count": 7,
   "metadata": {
    "collapsed": true
   },
   "outputs": [],
   "source": [
    "def mostFreq(items, n, return_key=True):\n",
    "    counter = Counter(items)\n",
    "    if return_key is True:\n",
    "        return [c[0] for c in counter.most_common(n)]\n",
    "    else:\n",
    "        return [c[1] for c in counter.most_common(n)]\n",
    "\n",
    "def jaccord(set_1, set_2):\n",
    "    return len(set(set_1).intersection(set(set_2))) / float(len(set(set_1).union(set(set_2))))"
   ]
  },
  {
   "cell_type": "code",
   "execution_count": 8,
   "metadata": {
    "collapsed": true
   },
   "outputs": [],
   "source": [
    "def similarity(set_1, set_2):\n",
    "    cycles = [10 * n for n in range(1,200)]\n",
    "    step, score = [], []\n",
    "    for c in cycles:\n",
    "        freq1, freq2 = mostFreq(set_1, c), mostFreq(set_2, c)\n",
    "        step.append(c)\n",
    "        score.append(jaccord(freq1, freq2))\n",
    "    return [step, score]\n",
    "\n",
    "eap_hpl1 = similarity(eap_1tok, hpl_1tok)\n",
    "eap_mws1 = similarity(eap_1tok, mws_1tok)\n",
    "mws_hpl1 = similarity(mws_1tok, hpl_1tok)\n",
    "\n",
    "eap_hpl2 = similarity(eap_2tok, hpl_2tok)\n",
    "eap_mws2 = similarity(eap_2tok, mws_2tok)\n",
    "mws_hpl2 = similarity(mws_2tok, hpl_2tok)"
   ]
  },
  {
   "cell_type": "code",
   "execution_count": 9,
   "metadata": {},
   "outputs": [
    {
     "data": {
      "image/png": "[encoded data removed]",
      "text/plain": [
       "<matplotlib.figure.Figure at 0x11463978>"
      ]
     },
     "metadata": {},
     "output_type": "display_data"
    }
   ],
   "source": [
    "fig, ax = plt.subplots(nrows=2, ncols=3, figsize=(16,12))\n",
    "\n",
    "ax[0][0].plot(eap_hpl1[0], eap_hpl1[1])\n",
    "ax[0][1].plot(eap_mws1[0], eap_mws1[1], color=\"black\")\n",
    "ax[0][2].plot(mws_hpl1[0], mws_hpl1[1], color=\"grey\")\n",
    "\n",
    "ax[1][0].plot(eap_hpl2[0], eap_hpl2[1])\n",
    "ax[1][1].plot(eap_mws2[0], eap_mws2[1], color=\"black\")\n",
    "ax[1][2].plot(mws_hpl2[0], mws_hpl2[1], color=\"grey\")\n",
    "\n",
    "ax[0][0].set_title(\"EAP and HPL Corpus Similarity:\\n1gram\")\n",
    "ax[0][1].set_title(\"EAP and MWS Corpus Similarity:\\n1gram\")\n",
    "ax[0][2].set_title(\"MWS and HPL Corpus Similarity:\\n1gram\")\n",
    "\n",
    "ax[1][0].set_title(\"EAP and HPL Corpus Similarity:\\n2gram\")\n",
    "ax[1][1].set_title(\"EAP and MWS Corpus Similarity:\\n2gram\")\n",
    "ax[1][2].set_title(\"MWS and HPL Corpus Similarity:\\n2gram\")\n",
    "\n",
    "ax[0][0].set_ylabel(\"Overlap\")\n",
    "ax[0][1].set_ylabel(\"Overlap\")\n",
    "ax[0][2].set_ylabel(\"Overlap\")\n",
    "\n",
    "ax[1][0].set_ylabel(\"Overlap\")\n",
    "ax[1][1].set_ylabel(\"Overlap\")\n",
    "ax[1][2].set_ylabel(\"Overlap\")\n",
    "\n",
    "ax[0][0].set_ylim(0,.5)\n",
    "ax[0][1].set_ylim(0,.5)\n",
    "ax[0][2].set_ylim(0,.5)\n",
    "\n",
    "ax[1][0].set_ylim(0,.2)\n",
    "ax[1][1].set_ylim(0,.2)\n",
    "ax[1][2].set_ylim(0,.2)\n",
    "\n",
    "plt.show()"
   ]
  },
  {
   "cell_type": "markdown",
   "metadata": {},
   "source": [
    "From the two plot sets, both Shelley and Lovecraft share affinities with Poe though likely for different reasons. Shelley and Poe were contemporaries, thus it's likely that they shared phrasings and word choice that were common during their era. Lovecraft's similarity with Poe likely derives from influence. Interestingly, Shelley and Lovecraft and noticeably less similar with each other than they are with Poe. It's possible that these similarities might confuse our models, so it's important to return to this observation during model evaluation.\n",
    "\n",
    "Second, it's worth mentioning how distinct bigram usage is among the three authors. We need to be careful though because of the limited size of our corpus. Low co-occurence account could lead to classifier instabilities so we'll need to strategize how best to incorporate this information that clearly separates our authors far more than does the 1-gram results. It's also interesting to note how Shelley and Lovecraft have a relatively steep long-tail decline in corpus similarity."
   ]
  },
  {
   "cell_type": "markdown",
   "metadata": {},
   "source": [
    "##### Exploring BiGrams Further\n",
    "\n",
    "BiGrams are obviously important, yet our small corpus size is a roadblock to fully leveraging this information. We need to see assess how common these bigrams are.\n",
    "\n",
    "Below I plot the frequencies of the most common 1-grams vs. the most common bigrams."
   ]
  },
  {
   "cell_type": "code",
   "execution_count": 10,
   "metadata": {},
   "outputs": [
    {
     "data": {
      "image/png": "[encoded data removed]",
      "text/plain": [
       "<matplotlib.figure.Figure at 0xf309f28>"
      ]
     },
     "metadata": {},
     "output_type": "display_data"
    }
   ],
   "source": [
    "trainGram1Freq = mostFreq(train_1tok, 2000, return_key=False)\n",
    "trainGram2Freq = mostFreq(train_2tok, 2000, return_key=False)\n",
    "\n",
    "fig, ax = plt.subplots(figsize=(16,8))\n",
    "\n",
    "ax.plot([n for n in range(1, 2001)], trainGram1Freq)\n",
    "ax.plot([n for n in range(1, 2001)], trainGram2Freq, color=\"black\")\n",
    "ax.set_title(\"One-Grams Have Far Higher Occurence Compared to BiGrams\")\n",
    "ax.set_ylabel(\"Token Occurence\")\n",
    "ax.set_xlabel(\"Token Frequency Rank\")\n",
    "ax.legend([\"Train 1-gram\", \"Train bi-gram\"])\n",
    "\n",
    "plt.show()"
   ]
  },
  {
   "cell_type": "markdown",
   "metadata": {},
   "source": [
    "The observed bigram frequencies are so low it's doubtful that they'll be of much help to our models. Indeed, the unigram counts too are *quite low* once we surpass the top 100! Given this fact, it might be useful to at least trying to rollup these token features via TruncatedSVD. "
   ]
  },
  {
   "cell_type": "markdown",
   "metadata": {},
   "source": [
    "### Building Classifiers Using Text Features\n",
    "\n",
    "Typically in these problems the baseline approach is to build out a sparse vector of tfidf values for you ngrams and train/test some preliminary models. One wrinkle I want to introduce is how we incorporate grams of varying size.\n",
    "\n",
    "N grams of length > 1 are by definition co-occuring, so when we have a vector of uni and bigrams, we're double counting in a sense (violating our independence assumptions). For instance, the bigram \"old person\" will also appear in our vector as \"old\" and \"person\".\n",
    "\n",
    "Two potential ways we can tackle this problem are as follows:\n",
    "\n",
    "1. Separate our ngrams into separate vectors to train different models. If errors are fairly uncorrelated, it'd make sense to stack the results.\n",
    "2. Defer to the highest ngram and only count the lower instances if the remaining tokens in the larger ngram are not co-occuring with the lower ngram in the text sample. So for instance: \"the old person left the tired, old room\". Let's say we have [\"old\", \"old person\"] as text features. In the typical approach, our count dictionary would be {\"old\":2, \"old person\":1}, when really it should be {\"old\":1, \"old person\":1}"
   ]
  },
  {
   "cell_type": "code",
   "execution_count": 11,
   "metadata": {
    "collapsed": true
   },
   "outputs": [],
   "source": [
    "## build separate tfidf vectors\n",
    "def buildTfidf(train, count, n_count):\n",
    "    corpus = [\" \".join(c) for c in buildCorpus(train, n_count=n_count)]\n",
    "    return TfidfVectorizer(max_features=count).fit_transform(corpus)"
   ]
  },
  {
   "cell_type": "code",
   "execution_count": 12,
   "metadata": {
    "collapsed": true
   },
   "outputs": [],
   "source": [
    "tfidf = buildTfidf(train_df.text, 4000, (1,1))"
   ]
  },
  {
   "cell_type": "code",
   "execution_count": 13,
   "metadata": {
    "collapsed": true
   },
   "outputs": [],
   "source": [
    "## set aside target\n",
    "y = train_df.author.as_matrix().ravel()\n",
    "\n",
    "## train/test split\n",
    "X_train, X_test, y_train, y_test = train_test_split(\n",
    "    tfidf, y, random_state=0, stratify=y)"
   ]
  },
  {
   "cell_type": "code",
   "execution_count": 14,
   "metadata": {
    "collapsed": true
   },
   "outputs": [],
   "source": [
    "def printConfusion(y_act, y_pred):\n",
    "    cm = confusion_matrix(y_act, y_pred)\n",
    "    cm_norm = cm.astype('float') / cm.sum(axis=1)[:, np.newaxis]\n",
    "    \n",
    "    print(pd.DataFrame(cm))\n",
    "    print(pd.DataFrame(cm_norm))"
   ]
  },
  {
   "cell_type": "code",
   "execution_count": 15,
   "metadata": {},
   "outputs": [
    {
     "name": "stdout",
     "output_type": "stream",
     "text": [
      "Training set score: 0.864\n",
      "Test set score: 0.803\n",
      "MNB F1 Score: 0.803\n",
      "      0     1     2\n",
      "0  1648   127   200\n",
      "1   233  1080    96\n",
      "2   225    83  1203\n",
      "          0         1         2\n",
      "0  0.834430  0.064304  0.101266\n",
      "1  0.165366  0.766501  0.068133\n",
      "2  0.148908  0.054931  0.796161\n"
     ]
    }
   ],
   "source": [
    "mnb = MultinomialNB(alpha=.1).fit(X_train, y_train)\n",
    "print(\"Training set score: {:.3f}\".format(mnb.score(X_train, y_train)))\n",
    "print(\"Test set score: {:.3f}\".format(mnb.score(X_test, y_test)))\n",
    "print(\"MNB F1 Score: {:.3f}\".format(f1_score(y_test, mnb.predict(X_test), average='weighted')))\n",
    "\n",
    "printConfusion(y_test, mnb.predict(X_test))"
   ]
  },
  {
   "cell_type": "markdown",
   "metadata": {},
   "source": [
    "### Meta Features"
   ]
  },
  {
   "cell_type": "code",
   "execution_count": 133,
   "metadata": {
    "collapsed": true
   },
   "outputs": [],
   "source": [
    "def findUnique(items, pop):\n",
    "    return list(set([i for i in items if i not in pop]))\n",
    "\n",
    "def tokCount(items):\n",
    "    return [len(i) for i in items]\n",
    "\n",
    "def meanTokLen(items):\n",
    "    return list(pd.Series([np.mean([len(t) for t in i]) for i in items]).fillna(0))\n",
    "\n",
    "def characterCount(items):\n",
    "    return [len(list(s)) for s in [\" \".join(i) for i in items]]\n",
    "\n",
    "def posCount(items):\n",
    "    results = pd.DataFrame()\n",
    "    for i in items:\n",
    "        row = {}\n",
    "        tags = pos_tag(i)\n",
    "        for t in tags:\n",
    "            if row.get(t[1], None) is not None:\n",
    "                row[t[1]] += 1\n",
    "            else:\n",
    "                row[t[1]] = 1\n",
    "        row = pd.DataFrame(pd.Series(row)).T\n",
    "        results = results.append(row)\n",
    "    return results.fillna(0).reset_index(drop=True)\n",
    "\n",
    "def specCharCount(items):\n",
    "    return [len(list(re.sub(\"[a-z0-9]\", \"\", i.lower()))) for i in items]"
   ]
  },
  {
   "cell_type": "code",
   "execution_count": 17,
   "metadata": {
    "collapsed": true
   },
   "outputs": [],
   "source": [
    "train_corp = buildCorpus(train_df.text, n_count=(1,1))"
   ]
  },
  {
   "cell_type": "code",
   "execution_count": 170,
   "metadata": {
    "collapsed": true
   },
   "outputs": [],
   "source": [
    "pos = posCount(train_df.text)\n",
    "pos = TruncatedSVD(n_components=2).fit_transform(pos.as_matrix())"
   ]
  },
  {
   "cell_type": "code",
   "execution_count": 188,
   "metadata": {},
   "outputs": [],
   "source": [
    "meta_df = pd.concat([pd.DataFrame(pos), pd.DataFrame(mnb.predict_proba(tfidf))], axis=1)\n",
    "#meta_df = pd.DataFrame(mnb.predict_proba(tfidf))"
   ]
  },
  {
   "cell_type": "code",
   "execution_count": 189,
   "metadata": {},
   "outputs": [],
   "source": [
    "#meta_df['tokCount'] = tokCount(train_corp)\n",
    "#meta_df['mean_tok_len'] = meanTokLen(train_corp)\n",
    "meta_df['char_count'] = characterCount(train_corp)\n",
    "#meta_df['special_char'] = specCharCount(train_df.text)"
   ]
  },
  {
   "cell_type": "code",
   "execution_count": 190,
   "metadata": {
    "collapsed": true
   },
   "outputs": [],
   "source": [
    "#meta_df = pd.concat([meta_df, pd.DataFrame(mnb.predict_proba(tfidf))], axis=1)\n",
    "#meta_df = pd.DataFrame(mnb.predict_proba(tfidf))"
   ]
  },
  {
   "cell_type": "code",
   "execution_count": 191,
   "metadata": {
    "collapsed": true
   },
   "outputs": [],
   "source": [
    "uniq_tok = [\n",
    "    set(findUnique(eap_1tok, set(hpl_1tok).union(set(mws_1tok)))),\n",
    "    set(findUnique(hpl_1tok, set(eap_1tok).union(set(mws_1tok)))),\n",
    "    set(findUnique(mws_1tok, set(hpl_1tok).union(set(eap_1tok))))\n",
    "]\n",
    "u_df = pd.DataFrame()\n",
    "for t in train_corp:\n",
    "    matches = []\n",
    "    for e in uniq_tok:\n",
    "        if len(set(t).intersection(e)) > 0:\n",
    "            matches.append(1)\n",
    "        else:\n",
    "            matches.append(0)\n",
    "    u_df = u_df.append(pd.DataFrame(matches).T)\n",
    "\n",
    "u_df.head()\n",
    "meta_df = pd.concat([meta_df, u_df.reset_index(drop=True)], axis=1)"
   ]
  },
  {
   "cell_type": "code",
   "execution_count": 192,
   "metadata": {
    "collapsed": true
   },
   "outputs": [],
   "source": [
    "scaler = StandardScaler()\n",
    "X_meta = meta_df.as_matrix()\n",
    "\n",
    "X_meta = scaler.fit_transform(X_meta)\n",
    "\n",
    "X_train_meta, X_test_meta, y_train_meta, y_test_meta = train_test_split(\n",
    "    X_meta, y, random_state=0, stratify=y)"
   ]
  },
  {
   "cell_type": "code",
   "execution_count": 193,
   "metadata": {},
   "outputs": [
    {
     "name": "stdout",
     "output_type": "stream",
     "text": [
      "Training set score: 0.918\n",
      "Test set score: 0.882\n",
      "KNN F1 Score: 0.882\n",
      "      0     1     2\n",
      "0  1780    68   127\n",
      "1   109  1250    50\n",
      "2   179    45  1287\n",
      "          0         1         2\n",
      "0  0.901266  0.034430  0.064304\n",
      "1  0.077360  0.887154  0.035486\n",
      "2  0.118465  0.029782  0.851754\n"
     ]
    }
   ],
   "source": [
    "knn = KNeighborsClassifier(n_neighbors=20).fit(X_train_meta, y_train_meta)\n",
    "print(\"Training set score: {:.3f}\".format(knn.score(X_train_meta, y_train_meta)))\n",
    "print(\"Test set score: {:.3f}\".format(knn.score(X_test_meta, y_test_meta)))\n",
    "print(\"KNN F1 Score: {:.3f}\".format(f1_score(y_test_meta, knn.predict(X_test_meta), average='weighted')))\n",
    "\n",
    "printConfusion(y_test_meta, knn.predict(X_test_meta))"
   ]
  },
  {
   "cell_type": "code",
   "execution_count": 194,
   "metadata": {},
   "outputs": [
    {
     "name": "stdout",
     "output_type": "stream",
     "text": [
      "Training set score: 0.925\n",
      "Test set score: 0.879\n",
      "RF F1 Score: 0.879\n",
      "      0     1     2\n",
      "0  1765    69   141\n",
      "1   121  1239    49\n",
      "2   167    44  1300\n",
      "          0         1         2\n",
      "0  0.893671  0.034937  0.071392\n",
      "1  0.085877  0.879347  0.034776\n",
      "2  0.110523  0.029120  0.860357\n"
     ]
    }
   ],
   "source": [
    "gbc = GradientBoostingClassifier().fit(X_train_meta, y_train_meta)\n",
    "print(\"Training set score: {:.3f}\".format(gbc.score(X_train_meta, y_train_meta)))\n",
    "print(\"Test set score: {:.3f}\".format(gbc.score(X_test_meta, y_test_meta)))\n",
    "print(\"RF F1 Score: {:.3f}\".format(f1_score(y_test_meta, gbc.predict(X_test_meta), average='weighted')))\n",
    "\n",
    "printConfusion(y_test_meta, gbc.predict(X_test_meta))"
   ]
  },
  {
   "cell_type": "code",
   "execution_count": 195,
   "metadata": {},
   "outputs": [
    {
     "name": "stdout",
     "output_type": "stream",
     "text": [
      "0 0.132959616621\n",
      "1 0.0583228932153\n",
      "0 0.177234040473\n",
      "1 0.224559774585\n",
      "2 0.178063629924\n",
      "char_count 0.067167908147\n",
      "0 0.0476488748417\n",
      "1 0.0719529063819\n",
      "2 0.0420903558114\n"
     ]
    }
   ],
   "source": [
    "for f, i in zip(meta_df.columns, gbc.feature_importances_):\n",
    "    print f, i"
   ]
  },
  {
   "cell_type": "code",
   "execution_count": null,
   "metadata": {
    "collapsed": true
   },
   "outputs": [],
   "source": []
  }
 ],
 "metadata": {
  "kernelspec": {
   "display_name": "Python 2",
   "language": "python",
   "name": "python2"
  },
  "language_info": {
   "codemirror_mode": {
    "name": "ipython",
    "version": 2
   },
   "file_extension": ".py",
   "mimetype": "text/x-python",
   "name": "python",
   "nbconvert_exporter": "python",
   "pygments_lexer": "ipython2",
   "version": "2.7.14"
  }
 },
 "nbformat": 4,
 "nbformat_minor": 2
}
