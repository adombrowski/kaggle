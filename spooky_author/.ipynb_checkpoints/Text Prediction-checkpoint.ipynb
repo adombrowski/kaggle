{
 "cells": [
  {
   "cell_type": "markdown",
   "metadata": {},
   "source": [
    "# Text Prediction\n",
    "\n",
    "This notebook is a running analysis on the Kaggle \"spooky author\" dataset."
   ]
  },
  {
   "cell_type": "markdown",
   "metadata": {},
   "source": [
    "### Introduction\n",
    "\n",
    "This notebook takes you through an approach to small document text classification. It takes you through basic approaches to vectorizing and training text classification models and then builds up from there to stack model approaches that yield more powerful predictions. The notebook is organized as follows:\n",
    "\n",
    "1. Initial Data Exploration\n",
    "2. Basic Text Feature Engineering and Model Evaluation\n",
    "3. Extracting Text Meta-Features (start words and puncuation)\n",
    "4. Stack Model Approaches\n",
    "5. Cross-Validation and Visualizing Performance\n",
    "6. Closing Remarks"
   ]
  },
  {
   "cell_type": "markdown",
   "metadata": {},
   "source": [
    "### Initial Data Exploration\n",
    "\n",
    "Let's first import our libraries and our training and testing data sets. You'll see below I rely heavily on the scikit and nltk libraries in my text classification analysis."
   ]
  },
  {
   "cell_type": "code",
   "execution_count": 1,
   "metadata": {
    "collapsed": true
   },
   "outputs": [],
   "source": [
    "import pandas as pd\n",
    "import numpy as np\n",
    "import re\n",
    "\n",
    "from collections import Counter\n",
    "\n",
    "from sklearn.feature_extraction.text import TfidfVectorizer, CountVectorizer\n",
    "from sklearn.decomposition import TruncatedSVD\n",
    "from sklearn.model_selection import train_test_split\n",
    "from sklearn.metrics import f1_score, confusion_matrix\n",
    "from sklearn.preprocessing import normalize, StandardScaler\n",
    "from sklearn.decomposition import TruncatedSVD, PCA\n",
    "from sklearn.metrics.pairwise import cosine_similarity\n",
    "\n",
    "from sklearn.naive_bayes import MultinomialNB\n",
    "from sklearn.svm import SVC, LinearSVC\n",
    "from sklearn.linear_model import LogisticRegression\n",
    "from sklearn.ensemble import RandomForestClassifier, GradientBoostingClassifier\n",
    "from sklearn.neighbors import KNeighborsClassifier\n",
    "\n",
    "from nltk.tokenize import word_tokenize\n",
    "from nltk.stem import PorterStemmer\n",
    "from nltk.corpus import stopwords\n",
    "from nltk import ngrams, pos_tag\n",
    "\n",
    "import matplotlib.pyplot as plt"
   ]
  },
  {
   "cell_type": "code",
   "execution_count": 2,
   "metadata": {
    "collapsed": true
   },
   "outputs": [],
   "source": [
    "## import training and test data\n",
    "train_df, test_df = pd.read_csv(\"train.csv\", sep=\",\", encoding=\"utf-8\"), pd.read_csv(\"test.csv\", sep=\",\", encoding=\"utf-8\")"
   ]
  },
  {
   "cell_type": "markdown",
   "metadata": {},
   "source": [
    "##### Plot Our Class Distribution\n",
    "\n",
    "Let's start off by plotting our training data class distributions. It's always good to make sure our class distribution is not lopsided (think cancer data) and that we have a basic, high level understanding of our class occurences (e.g. how many classes we need to train on, et cetera)."
   ]
  },
  {
   "cell_type": "code",
   "execution_count": 3,
   "metadata": {},
   "outputs": [
    {
     "data": {
      "image/png": "[encoded data removed]",
      "text/plain": [
       "<matplotlib.figure.Figure at 0x10bd49e8>"
      ]
     },
     "metadata": {},
     "output_type": "display_data"
    }
   ],
   "source": [
    "## plot overall author count\n",
    "classDist = train_df.groupby(\"author\")[\"id\"].count().reset_index().sort_values(\"id\", ascending=False).rename(columns={'id':'count'}).reset_index(drop=True)\n",
    "\n",
    "plt.bar(list(classDist.author.index), classDist['count'])\n",
    "plt.title(\"Classifier Tag Distribution\")\n",
    "plt.ylabel(\"Frequency\")\n",
    "plt.xticks(list(classDist.author.index), classDist.author)\n",
    "\n",
    "plt.show()"
   ]
  },
  {
   "cell_type": "markdown",
   "metadata": {},
   "source": [
    "As far as class distributions go this is pretty manageable. We'll just want to make sure our train and test splits mirror this distribution."
   ]
  },
  {
   "cell_type": "markdown",
   "metadata": {},
   "source": [
    "##### Preparing Our Text Data\n",
    "\n",
    "We need to run some pre-processing on our data. It varies based upon the project, but typically you'll at least consider doing some of the following:\n",
    "- Stripping special characters (non-alpha-numeric characters) from the raw strings\n",
    "- Tokenizing\n",
    "- Removing stopwords\n",
    "- Stem/lemmatize\n",
    "- Generate count or tfidf sparse vectors\n",
    "\n",
    "But again: not every action is needed or even desirable given the particular problem case. For instance, special characters might very well help our models distinguish between authors. One of our authors lived relatively later than our other two and punctuation conventions change over time (and are usually idiosyncratic when considering some famous authors). So we might very well want to hold back on the string cleaning.\n",
    "\n",
    "Tokenizing is another task that's going to have its specifics be determined by the project's aims as well as data available. The second consideration is very important: bi-gram and tri-grams require a fairly substantial corpus, preferably at least in the millions -- the reason being we need a lot of overall occurences before we can get a decent sample of co-occurences. We don't have that here, but then again, authorial idiosyncracies might reveal an important ngram or two.\n",
    "\n",
    "I've defined a method that gives us some flexibility in configuring our parameters so we can test to see which pre-processing tasks we want to perform on our data."
   ]
  },
  {
   "cell_type": "code",
   "execution_count": 97,
   "metadata": {
    "collapsed": true
   },
   "outputs": [],
   "source": [
    "def joinGrams(text, n_count):\n",
    "    return [\" \".join(n) for n in ngrams(text, n_count)]\n",
    "\n",
    "def buildNGrams(text, n_count):\n",
    "    result = []\n",
    "    for i in range(n_count[0],n_count[1]+1):\n",
    "        result += joinGrams(text, i)\n",
    "    return result\n",
    "\n",
    "def buildCorpus(sentences, flatten=False, n_count=(1,1)):\n",
    "    stemmer = PorterStemmer()\n",
    "    stop = list(set(stopwords.words('english')))\n",
    "    \n",
    "    ## tokenize\n",
    "    corp = [word_tokenize(re.sub(\"[^a-z\\s]\", \"\", s.lower())) for s in sentences]\n",
    "    \n",
    "    ## remove stopwords (first sweep)\n",
    "    corp = [[w for w in sen if w not in stop] for sen in corp]\n",
    "    \n",
    "    ## stem words\n",
    "    corp = [[stemmer.stem(w) for w in sen] for sen in corp]\n",
    "\n",
    "    ## remove stopwords (second sweep)\n",
    "    corp = [[w for w in sen if w not in stop] for sen in corp]\n",
    "\n",
    "    ## build ngrams\n",
    "    if n_count[1] > 1:\n",
    "        corp = [buildNGrams(c, n_count) for c in corp]\n",
    "    \n",
    "    ## return flattened token list\n",
    "    if flatten is True:\n",
    "        return [item for sublist in corp for item in sublist]\n",
    "    else:\n",
    "        return [\" \".join(c) for c in corp]"
   ]
  },
  {
   "cell_type": "markdown",
   "metadata": {},
   "source": [
    "Let's start off simple: we'll remove our stopwords, clean, and stem. I'm going to create separate vectors holding our uni-grams and bi-grams. For bi-grams to be useful we'll likely need a larger corpus, but let's at least see what we have to work with.\n",
    "\n",
    "(Note: sklearn has classes that do this for you, but for illustrative purposes I've defined a simple method for us to play with).\n",
    "\n",
    "Below I generate lists of every token (uni or bigram) present in an author's corpus (i.e. no de-duplication). These lists will help us analyze term frequencies."
   ]
  },
  {
   "cell_type": "code",
   "execution_count": 5,
   "metadata": {
    "collapsed": true
   },
   "outputs": [],
   "source": [
    "## generate list of all unigrams found in an author's corpus\n",
    "eap_1tok = buildCorpus(train_df.text[train_df.author == \"EAP\"], flatten=True)\n",
    "hpl_1tok = buildCorpus(train_df.text[train_df.author == \"HPL\"], flatten=True)\n",
    "mws_1tok = buildCorpus(train_df.text[train_df.author == \"MWS\"], flatten=True)\n",
    "\n",
    "## generate list of all bigrams found in an author's corpus\n",
    "eap_2tok = buildCorpus(train_df.text[train_df.author == \"EAP\"], flatten=True, n_count=(2,2))\n",
    "hpl_2tok = buildCorpus(train_df.text[train_df.author == \"HPL\"], flatten=True, n_count=(2,2))\n",
    "mws_2tok = buildCorpus(train_df.text[train_df.author == \"MWS\"], flatten=True, n_count=(2,2))\n",
    "\n",
    "## generate list of all unigrams in entire corpus, both training and test\n",
    "train_1tok = buildCorpus(train_df.text, flatten=True)\n",
    "test_1tok = buildCorpus(test_df.text, flatten=True)\n",
    "\n",
    "## generate list of all bigrams in entire corpus, both training and test\n",
    "train_2tok = buildCorpus(train_df.text, flatten=True, n_count=(2,2))\n",
    "test_2tok = buildCorpus(test_df.text, flatten=True, n_count=(2,2))"
   ]
  },
  {
   "cell_type": "markdown",
   "metadata": {},
   "source": [
    "Below I visualize aggregate frequency statistics that will help give us a bird's eye sense of the data we're playing with. But let's first simply get a sense of token count and uniqueness throughout our population."
   ]
  },
  {
   "cell_type": "code",
   "execution_count": 6,
   "metadata": {},
   "outputs": [
    {
     "name": "stdout",
     "output_type": "stream",
     "text": [
      "Total number of unigram tokens in training corpus: 255678\n",
      "Total number of bigram tokens in training corpus: 236102\n",
      "\n",
      "Total number of unique unigram tokens in training corpus: 15541\n",
      "Total number of unique bigram tokens in training corpus: 201406\n"
     ]
    }
   ],
   "source": [
    "print(\"Total number of unigram tokens in training corpus: {}\".format(len(train_1tok)))\n",
    "print(\"Total number of bigram tokens in training corpus: {}\".format(len(train_2tok)))\n",
    "\n",
    "print(\"\\nTotal number of unique unigram tokens in training corpus: {}\".format(len(set(train_1tok))))\n",
    "print(\"Total number of unique bigram tokens in training corpus: {}\".format(len(set(train_2tok))))"
   ]
  },
  {
   "cell_type": "markdown",
   "metadata": {},
   "source": [
    "This corpus is not that big. At ~250,000 tokens and a roughly 17:1 total to unique ratio we'll easily be able to build classifiers using unigram tokens. But 235,000 tokens is simply not enough for bigrams as is evidenced by the total to unique ratio: 1.15:1; we simply do not have enough bigram observations to build a model on a lrge bi-gram vector.\n",
    "\n",
    "As we'll see below, there are a few frequently occuring bi-grams, so we could consider hot coding this into one of our vectors and seeing how our models respond."
   ]
  },
  {
   "cell_type": "markdown",
   "metadata": {},
   "source": [
    "###### Visualizing Most Frequent One-Gram Tokens, by Author"
   ]
  },
  {
   "cell_type": "code",
   "execution_count": 7,
   "metadata": {
    "collapsed": true
   },
   "outputs": [],
   "source": [
    "def mostFreq(items, n, return_key=True):\n",
    "    counter = Counter(items)\n",
    "    if return_key is True:\n",
    "        return [c[0] for c in counter.most_common(n)]\n",
    "    else:\n",
    "        return [c[1] for c in counter.most_common(n)]\n",
    "\n",
    "def jaccord(set_1, set_2):\n",
    "    return len(set(set_1).intersection(set(set_2))) / float(len(set(set_1).union(set(set_2))))"
   ]
  },
  {
   "cell_type": "code",
   "execution_count": 8,
   "metadata": {
    "collapsed": true
   },
   "outputs": [],
   "source": [
    "def similarity(set_1, set_2):\n",
    "    cycles = [10 * n for n in range(1,200)]\n",
    "    step, score = [], []\n",
    "    for c in cycles:\n",
    "        freq1, freq2 = mostFreq(set_1, c), mostFreq(set_2, c)\n",
    "        step.append(c)\n",
    "        score.append(jaccord(freq1, freq2))\n",
    "    return [step, score]\n",
    "\n",
    "eap_hpl1 = similarity(eap_1tok, hpl_1tok)\n",
    "eap_mws1 = similarity(eap_1tok, mws_1tok)\n",
    "mws_hpl1 = similarity(mws_1tok, hpl_1tok)\n",
    "\n",
    "eap_hpl2 = similarity(eap_2tok, hpl_2tok)\n",
    "eap_mws2 = similarity(eap_2tok, mws_2tok)\n",
    "mws_hpl2 = similarity(mws_2tok, hpl_2tok)"
   ]
  },
  {
   "cell_type": "code",
   "execution_count": 9,
   "metadata": {},
   "outputs": [
    {
     "data": {
      "image/png": "[encoded data removed]",
      "text/plain": [
       "<matplotlib.figure.Figure at 0x10c53c50>"
      ]
     },
     "metadata": {},
     "output_type": "display_data"
    }
   ],
   "source": [
    "fig, ax = plt.subplots(nrows=2, ncols=3, figsize=(16,12))\n",
    "\n",
    "ax[0][0].plot(eap_hpl1[0], eap_hpl1[1])\n",
    "ax[0][1].plot(eap_mws1[0], eap_mws1[1], color=\"black\")\n",
    "ax[0][2].plot(mws_hpl1[0], mws_hpl1[1], color=\"grey\")\n",
    "\n",
    "ax[1][0].plot(eap_hpl2[0], eap_hpl2[1])\n",
    "ax[1][1].plot(eap_mws2[0], eap_mws2[1], color=\"black\")\n",
    "ax[1][2].plot(mws_hpl2[0], mws_hpl2[1], color=\"grey\")\n",
    "\n",
    "ax[0][0].set_title(\"EAP and HPL Corpus Similarity:\\n1gram\")\n",
    "ax[0][1].set_title(\"EAP and MWS Corpus Similarity:\\n1gram\")\n",
    "ax[0][2].set_title(\"MWS and HPL Corpus Similarity:\\n1gram\")\n",
    "\n",
    "ax[1][0].set_title(\"EAP and HPL Corpus Similarity:\\n2gram\")\n",
    "ax[1][1].set_title(\"EAP and MWS Corpus Similarity:\\n2gram\")\n",
    "ax[1][2].set_title(\"MWS and HPL Corpus Similarity:\\n2gram\")\n",
    "\n",
    "ax[0][0].set_ylabel(\"Overlap\")\n",
    "ax[0][1].set_ylabel(\"Overlap\")\n",
    "ax[0][2].set_ylabel(\"Overlap\")\n",
    "\n",
    "ax[1][0].set_ylabel(\"Overlap\")\n",
    "ax[1][1].set_ylabel(\"Overlap\")\n",
    "ax[1][2].set_ylabel(\"Overlap\")\n",
    "\n",
    "ax[0][0].set_ylim(0,.5)\n",
    "ax[0][1].set_ylim(0,.5)\n",
    "ax[0][2].set_ylim(0,.5)\n",
    "\n",
    "ax[1][0].set_ylim(0,.2)\n",
    "ax[1][1].set_ylim(0,.2)\n",
    "ax[1][2].set_ylim(0,.2)\n",
    "\n",
    "plt.show()"
   ]
  },
  {
   "cell_type": "markdown",
   "metadata": {},
   "source": [
    "From the two plot sets, both Shelley and Lovecraft share affinities with Poe though likely for different reasons. Shelley and Poe were contemporaries, thus it's likely that they shared phrasings and word choice that were common during their era. Lovecraft's similarity with Poe likely derives from influence. Interestingly, Shelley and Lovecraft and noticeably less similar with each other than they are with Poe. It's possible that these similarities might confuse our models, so it's important to return to this observation during model evaluation.\n",
    "\n",
    "Second, it's worth mentioning how distinct bigram usage is among the three authors. We need to be careful though because of the limited size of our corpus. Low co-occurence account could lead to classifier instabilities so we'll need to strategize how best to incorporate this information that clearly separates our authors far more than does the 1-gram results. It's also interesting to note how Shelley and Lovecraft have a relatively steep long-tail decline in corpus similarity."
   ]
  },
  {
   "cell_type": "markdown",
   "metadata": {},
   "source": [
    "##### Exploring BiGrams Further\n",
    "\n",
    "BiGrams are obviously important, yet our small corpus size is a roadblock to fully leveraging this information. We need to see assess how common these bigrams are.\n",
    "\n",
    "Below I plot the frequencies of the most common 1-grams vs. the most common bigrams."
   ]
  },
  {
   "cell_type": "code",
   "execution_count": 10,
   "metadata": {
    "collapsed": true
   },
   "outputs": [
    {
     "data": {
      "image/png": "[encoded data removed]",
      "text/plain": [
       "<matplotlib.figure.Figure at 0xaabae80>"
      ]
     },
     "metadata": {},
     "output_type": "display_data"
    }
   ],
   "source": [
    "trainGram1Freq = mostFreq(train_1tok, 2000, return_key=False)\n",
    "trainGram2Freq = mostFreq(train_2tok, 2000, return_key=False)\n",
    "\n",
    "fig, ax = plt.subplots(figsize=(16,8))\n",
    "\n",
    "ax.plot([n for n in range(1, 2001)], trainGram1Freq)\n",
    "ax.plot([n for n in range(1, 2001)], trainGram2Freq, color=\"black\")\n",
    "ax.set_title(\"One-Grams Have Far Higher Occurence Compared to BiGrams\")\n",
    "ax.set_ylabel(\"Token Occurence\")\n",
    "ax.set_xlabel(\"Token Frequency Rank\")\n",
    "ax.legend([\"Train 1-gram\", \"Train bi-gram\"])\n",
    "\n",
    "plt.show()"
   ]
  },
  {
   "cell_type": "markdown",
   "metadata": {},
   "source": [
    "The observed bigram frequencies are so low it's doubtful that they'll be of much help to our models. Indeed, I ran two multinomial naive bayes models: unigram only and unigram + bigram. Unigram only performed noticeably better."
   ]
  },
  {
   "cell_type": "markdown",
   "metadata": {},
   "source": [
    "### Building Classifiers Using Text Features\n",
    "\n",
    "Typically in these problems the baseline approach is to build out a sparse vector of tfidf values for you ngrams and train/test some preliminary models."
   ]
  },
  {
   "cell_type": "code",
   "execution_count": 106,
   "metadata": {},
   "outputs": [],
   "source": [
    "train_df['clean_text'] = buildCorpus(train_df.text)"
   ]
  },
  {
   "cell_type": "code",
   "execution_count": 107,
   "metadata": {
    "collapsed": true
   },
   "outputs": [],
   "source": [
    "def startWords(text):\n",
    "    return [\" \".join(re.findall(\"(^[A-Z][A-Za-z]*|\\. [A-Z][A-Za-z]*)\", t)) for t in text]\n",
    "def padSingle(text):\n",
    "    return [t + \"xxxx\" if len(t) == 1 else t for t in text]"
   ]
  },
  {
   "cell_type": "code",
   "execution_count": 108,
   "metadata": {
    "collapsed": true
   },
   "outputs": [],
   "source": [
    "train_df['starts'] = padSingle(startWords(train_df.text))"
   ]
  },
  {
   "cell_type": "code",
   "execution_count": 109,
   "metadata": {
    "collapsed": true
   },
   "outputs": [],
   "source": [
    "train_base = train_df.sample(frac=.5, random_state=0)\n",
    "train_stack = (train_df[~train_df.id.isin(train_base.id)]).reset_index(drop=True)"
   ]
  },
  {
   "cell_type": "code",
   "execution_count": 110,
   "metadata": {},
   "outputs": [],
   "source": [
    "tfidf_vectorizer = TfidfVectorizer(max_features=4000).fit(train_base.clean_text)\n",
    "tfidf_base = tfidf_vectorizer.transform(train_base.clean_text)\n",
    "tfidf_stack = tfidf_vectorizer.transform(train_stack.clean_text)"
   ]
  },
  {
   "cell_type": "code",
   "execution_count": 111,
   "metadata": {},
   "outputs": [],
   "source": [
    "## set aside target\n",
    "y_base = train_base.author.as_matrix().ravel()\n",
    "y_stack = train_stack.author.as_matrix().ravel()\n",
    "\n",
    "## train/test split\n",
    "X_train, X_test, y_train, y_test = train_test_split(\n",
    "    tfidf_base, y_base, random_state=0, stratify=y_base)"
   ]
  },
  {
   "cell_type": "code",
   "execution_count": 112,
   "metadata": {
    "collapsed": true
   },
   "outputs": [],
   "source": [
    "def printConfusion(y_act, y_pred):\n",
    "    cm = confusion_matrix(y_act, y_pred)\n",
    "    cm_norm = cm.astype('float') / cm.sum(axis=1)[:, np.newaxis]\n",
    "    \n",
    "    print(pd.DataFrame(cm))\n",
    "    print(pd.DataFrame(cm_norm))"
   ]
  },
  {
   "cell_type": "code",
   "execution_count": 113,
   "metadata": {},
   "outputs": [
    {
     "name": "stdout",
     "output_type": "stream",
     "text": [
      "Training set score: 0.897\n",
      "Test set score: 0.788\n",
      "MNB F1 Score: 0.788\n",
      "     0    1    2\n",
      "0  824   77   96\n",
      "1  127  521   50\n",
      "2  109   59  585\n",
      "          0         1         2\n",
      "0  0.826479  0.077232  0.096289\n",
      "1  0.181948  0.746418  0.071633\n",
      "2  0.144754  0.078353  0.776892\n"
     ]
    }
   ],
   "source": [
    "mnb = MultinomialNB(alpha=.1).fit(X_train, y_train)\n",
    "print(\"Training set score: {:.3f}\".format(mnb.score(X_train, y_train)))\n",
    "print(\"Test set score: {:.3f}\".format(mnb.score(X_test, y_test)))\n",
    "print(\"MNB F1 Score: {:.3f}\".format(f1_score(y_test, mnb.predict(X_test), average='weighted')))\n",
    "\n",
    "printConfusion(y_test, mnb.predict(X_test))"
   ]
  },
  {
   "cell_type": "markdown",
   "metadata": {},
   "source": [
    "### Meta Features"
   ]
  },
  {
   "cell_type": "code",
   "execution_count": 162,
   "metadata": {
    "collapsed": true
   },
   "outputs": [],
   "source": [
    "def findUnique(items, pop):\n",
    "    return list(set([i for i in items if i not in pop]))\n",
    "\n",
    "def characterCount(items):\n",
    "    return [len(i) for i in items]\n",
    "\n",
    "def itemCount(elements, item):\n",
    "    return [len([i for i in word_tokenize(e) if i == item]) for e in elements]\n",
    "\n",
    "def alliteration(text):\n",
    "    result = []\n",
    "    for t in text:\n",
    "        score = 0\n",
    "        tokens = word_tokenize(t)\n",
    "        for n in range(len(tokens)-1):\n",
    "            if tokens[n][0] == tokens[n+1][0]:\n",
    "                score += 1\n",
    "        result.append(score)\n",
    "    return result\n",
    "\n",
    "def assonance(text):\n",
    "    result = []\n",
    "    for t in text:\n",
    "        score = 0\n",
    "        tokens = word_tokenize(t)\n",
    "        tokens = [re.sub(\"[^aeiou]\", \"\", t) for t in tokens]\n",
    "        for n in range(len(tokens)-1):\n",
    "            if len(tokens[n]) > 0 and len(tokens[n+1]) > 0:\n",
    "                if tokens[n][0] == tokens[n+1][0]:\n",
    "                    score += 1\n",
    "        result.append(score)\n",
    "    return result\n",
    "\n",
    "def vowelRatio(text):\n",
    "    return [len(re.sub(\"[^aeiouy]\", \"\", t)) / float(len(t)+1) for t in text]\n",
    "\n",
    "def conjunction(text):\n",
    "    words = [\n",
    "        \"and\",\n",
    "        \"or\",\n",
    "        \"but\",\n",
    "        \"nor\",\n",
    "        \"so\",\n",
    "        \"for\",\n",
    "        \"yet\",\n",
    "        \"after\",\n",
    "        \"although\",\n",
    "        \"as\",\n",
    "        \"because\",\n",
    "        \"before\",\n",
    "        \"once\",\n",
    "        \"since\",\n",
    "        \"though\",\n",
    "        \"till\",\n",
    "        \"unless\",\n",
    "        \"until\",\n",
    "        \"what\",\n",
    "        \"when\",\n",
    "        \"wherever\",\n",
    "        \"whether\",\n",
    "        \"while\"\n",
    "    ]\n",
    "    return [len(set([i for i in word_tokenize(t.lower()) if i in words])) for t in text]\n",
    "\n",
    "def repetition(text):\n",
    "    results = []\n",
    "    for t in text:\n",
    "        score = 0\n",
    "        tokens = word_tokenize(t)\n",
    "        for n in range(len(tokens)-1):\n",
    "            if tokens[n] == tokens[n+1]:\n",
    "                score += 1\n",
    "        results.append(score)\n",
    "    return results\n",
    "\n",
    "def stopCount(text):\n",
    "    stop = list(set(stopwords.words('english')))\n",
    "    return [len([i for i in word_tokenize(t.lower()) if i in stop]) for t in text]"
   ]
  },
  {
   "cell_type": "code",
   "execution_count": 163,
   "metadata": {
    "collapsed": true
   },
   "outputs": [],
   "source": [
    "meta_df = pd.DataFrame(mnb.predict_proba(tfidf_stack))"
   ]
  },
  {
   "cell_type": "code",
   "execution_count": 164,
   "metadata": {},
   "outputs": [],
   "source": [
    "meta_df['char_count'] = characterCount(train_stack.clean_text)\n",
    "meta_df['n_;'] = itemCount(train_stack.text, \";\")\n",
    "meta_df['n_,'] = itemCount(train_stack.text, \",\")\n",
    "meta_df['n_...'] = itemCount(train_stack.text, \"...\")"
   ]
  },
  {
   "cell_type": "code",
   "execution_count": 165,
   "metadata": {},
   "outputs": [],
   "source": [
    "meta_df['allit'] = alliteration(train_stack.clean_text)\n",
    "meta_df['asson'] = assonance(train_stack.clean_text)\n",
    "meta_df['vowRatio'] = vowelRatio(train_stack.clean_text)"
   ]
  },
  {
   "cell_type": "code",
   "execution_count": 166,
   "metadata": {},
   "outputs": [],
   "source": [
    "meta_df['conj'] = conjunction(train_stack.text)"
   ]
  },
  {
   "cell_type": "code",
   "execution_count": 167,
   "metadata": {},
   "outputs": [],
   "source": [
    "meta_df['rep'] = repetition(train_stack.clean_text)"
   ]
  },
  {
   "cell_type": "code",
   "execution_count": 168,
   "metadata": {},
   "outputs": [],
   "source": [
    "meta_df['stop'] = stopCount(train_stack.text)"
   ]
  },
  {
   "cell_type": "code",
   "execution_count": 169,
   "metadata": {
    "collapsed": true
   },
   "outputs": [],
   "source": [
    "def calcUnique(text, target):\n",
    "    ## set unique\n",
    "    eap = [item for sublist in [word_tokenize(c) for c in text[target==\"EAP\"]] for item in sublist]\n",
    "    hpl = [item for sublist in [word_tokenize(c) for c in text[target==\"HPL\"]] for item in sublist]\n",
    "    mws = [item for sublist in [word_tokenize(c) for c in text[target==\"MWS\"]] for item in sublist]\n",
    "\n",
    "    return [\n",
    "        list(set(findUnique(eap, set(hpl).union(set(mws))))),\n",
    "        list(set(findUnique(hpl, set(eap).union(set(mws))))),\n",
    "        list(set(findUnique(mws, set(hpl).union(set(eap)))))\n",
    "    ]\n",
    "\n",
    "def tagUnique(text, uniq_tok):\n",
    "    u_df = pd.DataFrame()\n",
    "    for t in text:\n",
    "        matches = []\n",
    "        for e in uniq_tok:\n",
    "            if len(set(word_tokenize(t)).intersection(e)) > 0:\n",
    "                matches.append(1)\n",
    "            else:\n",
    "                matches.append(0)\n",
    "        u_df = u_df.append(pd.DataFrame(matches).T)\n",
    "    return u_df.reset_index(drop=True)"
   ]
  },
  {
   "cell_type": "code",
   "execution_count": 171,
   "metadata": {},
   "outputs": [],
   "source": [
    "un_words = calcUnique(train_base.clean_text, train_base.author)\n",
    "un_start = calcUnique(train_base.starts, train_base.author)\n",
    "\n",
    "meta_df = pd.concat([meta_df, tagUnique(train_stack.clean_text, un_words)], axis=1)\n",
    "meta_df = pd.concat([meta_df, tagUnique(train_stack.clean_text, un_start)], axis=1)"
   ]
  },
  {
   "cell_type": "code",
   "execution_count": 172,
   "metadata": {},
   "outputs": [],
   "source": [
    "scaler = StandardScaler()\n",
    "X_meta = meta_df.as_matrix()\n",
    "\n",
    "X_meta = scaler.fit_transform(X_meta)\n",
    "\n",
    "X_train_meta, X_test_meta, y_train_meta, y_test_meta = train_test_split(\n",
    "    X_meta, y_stack, random_state=0, stratify=y_stack)"
   ]
  },
  {
   "cell_type": "code",
   "execution_count": 176,
   "metadata": {},
   "outputs": [
    {
     "name": "stdout",
     "output_type": "stream",
     "text": [
      "Training set score: 0.812\n",
      "Test set score: 0.816\n",
      "KNN F1 Score: 0.816\n",
      "     0    1    2\n",
      "0  823   78   78\n",
      "1   88  580   43\n",
      "2  128   36  594\n",
      "          0         1         2\n",
      "0  0.840654  0.079673  0.079673\n",
      "1  0.123769  0.815752  0.060478\n",
      "2  0.168865  0.047493  0.783641\n"
     ]
    }
   ],
   "source": [
    "knn = KNeighborsClassifier(n_neighbors=50).fit(X_train_meta, y_train_meta)\n",
    "print(\"Training set score: {:.3f}\".format(knn.score(X_train_meta, y_train_meta)))\n",
    "print(\"Test set score: {:.3f}\".format(knn.score(X_test_meta, y_test_meta)))\n",
    "print(\"KNN F1 Score: {:.3f}\".format(f1_score(y_test_meta, knn.predict(X_test_meta), average='weighted')))\n",
    "\n",
    "printConfusion(y_test_meta, knn.predict(X_test_meta))"
   ]
  },
  {
   "cell_type": "code",
   "execution_count": 174,
   "metadata": {},
   "outputs": [
    {
     "name": "stdout",
     "output_type": "stream",
     "text": [
      "Training set score: 0.851\n",
      "Test set score: 0.819\n",
      "RF F1 Score: 0.819\n",
      "     0    1    2\n",
      "0  806   76   97\n",
      "1   84  588   39\n",
      "2  115   33  610\n",
      "          0         1         2\n",
      "0  0.823289  0.077630  0.099081\n",
      "1  0.118143  0.827004  0.054852\n",
      "2  0.151715  0.043536  0.804749\n"
     ]
    }
   ],
   "source": [
    "gbc = GradientBoostingClassifier().fit(X_train_meta, y_train_meta)\n",
    "print(\"Training set score: {:.3f}\".format(gbc.score(X_train_meta, y_train_meta)))\n",
    "print(\"Test set score: {:.3f}\".format(gbc.score(X_test_meta, y_test_meta)))\n",
    "print(\"RF F1 Score: {:.3f}\".format(f1_score(y_test_meta, gbc.predict(X_test_meta), average='weighted')))\n",
    "\n",
    "printConfusion(y_test_meta, gbc.predict(X_test_meta))"
   ]
  },
  {
   "cell_type": "code",
   "execution_count": null,
   "metadata": {
    "collapsed": true
   },
   "outputs": [],
   "source": []
  }
 ],
 "metadata": {
  "kernelspec": {
   "display_name": "Python 2",
   "language": "python",
   "name": "python2"
  },
  "language_info": {
   "codemirror_mode": {
    "name": "ipython",
    "version": 2
   },
   "file_extension": ".py",
   "mimetype": "text/x-python",
   "name": "python",
   "nbconvert_exporter": "python",
   "pygments_lexer": "ipython2",
   "version": "2.7.14"
  }
 },
 "nbformat": 4,
 "nbformat_minor": 2
}
